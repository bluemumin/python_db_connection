{
 "cells": [
  {
   "cell_type": "code",
   "execution_count": 2,
   "metadata": {
    "ExecuteTime": {
     "end_time": "2021-04-11T15:46:07.843696Z",
     "start_time": "2021-04-11T15:46:07.830698Z"
    }
   },
   "outputs": [],
   "source": [
    "#기본 import 함수들\n",
    "import os\n",
    "import ibm_db_dbi as db  #db2 연결용\n",
    "import cx_Oracle  #oracle 연결용\n",
    "from psycopg2 import connect  #Postgre연결용\n",
    "import pymssql  #sql server(MS SQL) 연결용\n",
    "\n",
    "oracle_install_space = \"\"\n",
    "#oracle_install_space = \"C:\\oracle\\instantclient_19_8\""
   ]
  },
  {
   "cell_type": "code",
   "execution_count": null,
   "metadata": {},
   "outputs": [],
   "source": [
    "#각 DB들 연결하는 함수\n",
    "\n",
    "def db2_con(Database, Host, PORT, Username, Password):\n",
    "    db_connection = db.connect(\n",
    "        'DATABASE=' + str(Database) + ';'\n",
    "        'HOSTNAME=' + str(Host) + ';'\n",
    "        'PORT=' + str(PORT) + ';'\n",
    "        'UID = ' + str(Username) + ';'\n",
    "        'PWD= ' + str(Password) + ';', '', ' ')\n",
    "    return db_connection\n",
    "\n",
    "\n",
    "def oracle_con(Database, Host, PORT, Username, Password, oracle_install_space):\n",
    "    #oracle과 instantcleint있어야만 실행이 가능함\n",
    "    location = oracle_install_space\n",
    "    os.environ[\"PATH\"] = location + ';' + os.environ[\"PATH\"]\n",
    "\n",
    "    oracle_connection = cx_Oracle.connect(\n",
    "        str(Username) + '/' + str(Password) + '@' + str(Host) + ':' +\n",
    "        str(PORT) + '/' + str(Database))\n",
    "    return oracle_connection\n",
    "\n",
    "\n",
    "def sql_server_con(Database, Host, PORT, Username, Password, charset='utf8'):\n",
    "    sql_server_connection = pymssql.connect(database=str(Database),\n",
    "                                            server=str(Host),\n",
    "                                            port=int(PORT),\n",
    "                                            user=str(Username),\n",
    "                                            password=str(Password),\n",
    "                                            charset=charset)\n",
    "    return sql_server_connection\n",
    "\n",
    "\n",
    "def postgre_con(Database, Host, PORT, Username, Password):\n",
    "    postgre_connection = connect(database=str(Database),\n",
    "                                 host=str(Host),\n",
    "                                 port=int(PORT),\n",
    "                                 user=str(Username),\n",
    "                                 password=str(Password))\n",
    "    return postgre_connection"
   ]
  },
  {
   "cell_type": "code",
   "execution_count": null,
   "metadata": {},
   "outputs": [],
   "source": [
    "#전체 통합 연결 함수\n",
    "def python_db_connection(DB_type,\n",
    "                         Database,\n",
    "                         Host,\n",
    "                         PORT,\n",
    "                         Username,\n",
    "                         Password,\n",
    "                         space=oracle_install_space):\n",
    "    if DB_type == 'oracle':\n",
    "        connection_result = oracle_con(Database, Host, PORT, Username,\n",
    "                                       Password, space)\n",
    "    elif DB_type == 'db2':\n",
    "        connection_result = db2_con(Database, Host, PORT, Username, Password)\n",
    "    elif DB_type == 'sql server':\n",
    "        connection_result = sql_server_con(Database,\n",
    "                                           Host,\n",
    "                                           PORT,\n",
    "                                           Username,\n",
    "                                           Password,\n",
    "                                           charset='utf8')\n",
    "    elif DB_type == 'postgre':\n",
    "        connection_result = postgre_con(Database, Host, PORT, Username,\n",
    "                                        Password)\n",
    "    else:\n",
    "        print(\n",
    "            \"Please Check your DB_type. This only input 'oracle', 'db2', 'sql server', 'postgre'\"\n",
    "        )\n",
    "\n",
    "    return connection_result"
   ]
  },
  {
   "cell_type": "code",
   "execution_count": null,
   "metadata": {},
   "outputs": [],
   "source": [
    "#실제 수행 코드\n",
    "\n",
    "from python_db_con import python_db_connection\n",
    "\n",
    "oracle_install_space = 'oracle_설치 경로'\n",
    "\n",
    "python_db_connection('oracle', 'DB명칭', 'host', 'port', 'id', 'pw',\n",
    "                     oracle_install_space)\n",
    "\n",
    "python_db_connection('db2', 'DB명칭', 'host', 'port', 'id', 'pw')"
   ]
  }
 ],
 "metadata": {
  "hide_input": false,
  "kernelspec": {
   "display_name": "Python 3",
   "language": "python",
   "name": "python3"
  },
  "language_info": {
   "codemirror_mode": {
    "name": "ipython",
    "version": 3
   },
   "file_extension": ".py",
   "mimetype": "text/x-python",
   "name": "python",
   "nbconvert_exporter": "python",
   "pygments_lexer": "ipython3",
   "version": "3.8.5"
  },
  "toc": {
   "base_numbering": 1,
   "nav_menu": {},
   "number_sections": true,
   "sideBar": true,
   "skip_h1_title": false,
   "title_cell": "Table of Contents",
   "title_sidebar": "Contents",
   "toc_cell": false,
   "toc_position": {},
   "toc_section_display": true,
   "toc_window_display": false
  },
  "varInspector": {
   "cols": {
    "lenName": 16,
    "lenType": 16,
    "lenVar": 40
   },
   "kernels_config": {
    "python": {
     "delete_cmd_postfix": "",
     "delete_cmd_prefix": "del ",
     "library": "var_list.py",
     "varRefreshCmd": "print(var_dic_list())"
    },
    "r": {
     "delete_cmd_postfix": ") ",
     "delete_cmd_prefix": "rm(",
     "library": "var_list.r",
     "varRefreshCmd": "cat(var_dic_list()) "
    }
   },
   "types_to_exclude": [
    "module",
    "function",
    "builtin_function_or_method",
    "instance",
    "_Feature"
   ],
   "window_display": false
  }
 },
 "nbformat": 4,
 "nbformat_minor": 4
}
